


pip install pymongo


import pandas as pd
import numpy as np
import matplotlib.pyplot as plt
import matplotlib
from matplotlib.pyplot import figure
import seaborn as sns
from pymongo import MongoClient
from sklearn.preprocessing import LabelEncoder
from sklearn.preprocessing import MinMaxScaler
from sklearn.preprocessing import StandardScaler
from sklearn.preprocessing import Normalizer
from sklearn.preprocessing import QuantileTransformer
from sklearn.preprocessing import RobustScaler

plt.style.use('seaborn-v0_8-whitegrid')
from matplotlib.pyplot import figure

matplotlib.rcParams['figure.figsize'] = (12, 8)

pd.options.mode.chained_assignment = None





dfw = pd.read_csv('C:/Users/therealisc/Documents/Weather.csv')
dfc = pd.read_csv('C:/Users/therealisc/Documents/WorldCities.csv')

data_dict_weather = dfw.to_dict('records')
data_dict_cities = dfc.to_dict('records')

with open('C:/Users/therealisc/Documents/mongo.txt') as f:
    uri = f.readline().strip('\n')

with MongoClient(uri) as client:
    db = client.avmd  # avmd is the database name
    weather_events = db.weather_events  # weather_events is the collection name
    cities = db.cities # cities is the collection name

    if weather_events.count_documents({}) > 0:
        print('weather_events collection has documents')
    else:
        result = weather_events.insert_many(data_dict_weather)

    if cities.count_documents({}) > 0:
        print('cities collection has documents')
    else:
        result = cities.insert_many(data_dict_cities)





with MongoClient(uri) as client:
    db = client.avmd
    weather_events = db.weather_events
    cities = db.cities
    projection = {"_id": 0}
    cursor = weather_events.find({}, projection=projection)
    weather_events_df = pd.DataFrame.from_dict(list(cursor))
    cursor = cities.find({}, projection=projection)
    cities_df = pd.DataFrame.from_dict(list(cursor))
    cursor.close()

weather_events_df





df_numeric = weather_events_df.select_dtypes(include=[np.number])
numeric_cols = df_numeric.columns.values
print("Coloane numerice:", numeric_cols)





df_non_numeric = weather_events_df.select_dtypes(exclude=[np.number])
non_numeric_cols = df_non_numeric.columns.values
print("Coloane non-numerice:", non_numeric_cols)





empty_cols = weather_events_df.isna().sum()
empty_cols = empty_cols[empty_cols != 0]
print(empty_cols) # afisare doar coloane cu valori necompletate
cols = weather_events_df.columns
colours = ['#427b58', '#fe8019']  # culoarea portocalie pentru valorile inexistente.
sns.heatmap(weather_events_df[cols].isnull(), cmap=sns.color_palette(colours))





for col in numeric_cols:
    missing = weather_events_df[col].isnull()
    num_missing = np.sum(missing)

    if num_missing > 0:
        print('missing values for: {}'.format(col))
        weather_events_df['{}_ismissing'.format(col)] = missing
        med = weather_events_df[col].median()
        weather_events_df[col] = weather_events_df[col].fillna(med)





weather_events_df['events'] = weather_events_df['events'].fillna('None recorded')
weather_events_df





key = ['rownames']
weather_events_df.groupby(key)['rownames'].count().sort_values(ascending=False).head(30)






weather_events_df.drop_duplicates(subset = key, inplace=True)





df = pd.merge(weather_events_df, cities_df, left_on=weather_events_df['city'], right_on=cities_df['city'])
df['city_ascii'].value_counts().plot.bar() # city_ascii comes from cities_df so the dataframes were merge successfully





with MongoClient(uri) as client:
    db = client.avmd
    weather_events = db.weather_events
    projection = {
        "_id": 0,
        "date": 1,
        "high_temp": 1,
        "avg_temp": 1,
        "low_temp": 1,
        "high_dewpt": 1,
        "low_hg": 1,
        "high_vis": 1,
        "avg_vis": 1,
        "low_vis": 1,
        "high_wind": 1,
        "avg_wind": 1,
        "low_wind": 1,
        "precip": 1,
        "events": 1
    }
    cursor = weather_events.find({}, projection=projection)
    weather_events_df = pd.DataFrame.from_dict(list(cursor))
    cursor.close()





labelEncoder = LabelEncoder()
weather_events_df['events'] = labelEncoder.fit_transform(weather_events_df['events'].astype(str))
weather_events_df['date'] = pd.to_datetime(weather_events_df['date']).apply(lambda x: x.value)

weather_events_df['precip'] = weather_events_df['precip'].replace('T', 'NaN')

weather_events_df





weather_events_df.fillna(weather_events_df.mean(numeric_only=True), inplace=True)
weather_events_df


weather_events_df.plot(y="low_wind", kind='hist')
plt.show()





scaler = RobustScaler(quantile_range= (25, 75))
scaler.fit(weather_events_df)
scaled_weather_events_df = scaler.transform(weather_events_df)

cols=weather_events_df.columns.tolist()
scaled_weather_events_df = pd.DataFrame(data=scaled_weather_events_df, columns=cols)
scaled_weather_events_df.plot(y="low_wind", kind='hist')
plt.show()





normalizer = QuantileTransformer(n_quantiles=10, random_state=0)
normalizer.fit(weather_events_df)
normalized_weather_events_df = scaler.transform(weather_events_df)

normalized_weather_events_df = pd.DataFrame(data=normalized_weather_events_df, columns=cols)
normalized_weather_events_df.plot(y="low_wind", kind='hist')
plt.show()





with MongoClient(uri) as client:
    db = client.avmd
    collection = db["weather_events"]
    projection = {"_id":0}
    sort = [("row_names", 1)]
    cursor = collection.find({},projection=projection, sort=sort)
    dfm  = pd.DataFrame.from_dict(list(cursor))
    cursor.close()

dfm.describe()



from scipy.stats import kurtosis, skew
x_random = np.random.normal(0, 2, 10000)
y = dfm['low_wind']

f, (ax1, ax2) = plt.subplots(1, 2)
ax1.hist(x_random, bins='auto')
ax1.set_title('probability density (random)')
ax2.hist(y, bins='auto')
ax2.set_title('low wind')
plt.tight_layout()
plt.show()


print(dfm.skew(numeric_only=True))


plt.hist(y, bins=60)
print("medie : ", np.mean(y))
print("varianta  : ", np.var(y))
print("skewness : ", skew(y))
print("kurtosis : ", kurtosis(y))
plt.show()





dfm.corr(numeric_only=True)





dfm.corr(method = 'spearman',numeric_only=True)





dfm.corr(method = 'kendall', numeric_only=True)





dfm.plot(x="high_humidity", y="low_wind", kind="scatter")
plt.show()





dfm.plot(x="avg_humidity", y="avg_temp", kind="scatter")
plt.show()





from datetime import datetime

with MongoClient(uri) as client:
    db = client.avmd
    weather_events = db.weather_events
    projection = {
        "_id": 0,
        "date": 1,
        "city": 1,
        "high_temp": 1,
        "avg_temp": 1,
        "low_temp": 1,
        "high_wind": 1,
        "avg_wind": 1,
        "low_wind": 1,
        "precip": 1,
        "events": 1
    }
    cursor = weather_events.find({"year": 2016, "month": datetime.now().month, "city": "Chicago", "day": { '$gt': 20 }}, projection=projection)
    weather_events_df = pd.DataFrame.from_dict(list(cursor))
    cursor.close()

# Fahrenheit to Celsius
weather_events_df['high_temp'] = (weather_events_df['high_temp'] - 32) * 5/9
weather_events_df['avg_temp'] = (weather_events_df['avg_temp'] - 32) * 5/9
weather_events_df['low_temp'] = (weather_events_df['low_temp'] - 32) * 5/9

weather_events_df.plot.bar(x='date')
plt.show()



